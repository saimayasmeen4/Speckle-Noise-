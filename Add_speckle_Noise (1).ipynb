{
  "nbformat": 4,
  "nbformat_minor": 0,
  "metadata": {
    "accelerator": "GPU",
    "colab": {
      "name": "Add speckle Noise.ipynb",
      "provenance": [],
      "collapsed_sections": []
    },
    "kernelspec": {
      "display_name": "Python 3",
      "name": "python3"
    },
    "language_info": {
      "name": "python"
    }
  },
  "cells": [
    {
      "cell_type": "code",
      "metadata": {
        "id": "hxDlE68eyBm0"
      },
      "source": [
        "import cv2\n",
        "import numpy as np\n",
        "import matplotlib.pyplot as plt\n",
        "import os\n",
        "from google.colab.patches import cv2_imshow\n",
        "\n",
        "images= os.listdir('/content/drive/MyDrive/SAR_LPNET_NEW/test_img/GT/GT/')\n",
        "print(len(images))\n",
        "print((images))\n",
        "for i in range(len(images)):\n",
        "  img = cv2.imread('/content/drive/MyDrive/SAR_LPNET_NEW/test_img/GT/GT/'+images[i],0)\n",
        "  name=images[i]\n",
        "  # print(name)\n",
        "  gauss = np.random.normal(0.2,0.9,img.size) #base test\n",
        "  # gauss = np.random.normal(0.3,0.6,img.size) proposed\n",
        "  gauss = gauss.reshape(img.shape[0],img.shape[1]).astype('uint8')\n",
        "  noise = img + img * gauss\n",
        "  plt.imshow(noise[:,:],cmap='gray')\n",
        "  plt.show()\n",
        "  \n",
        "  cv2.imwrite(os.path.join('/content/drive/MyDrive//SAR_LPNET_NEW/test_img/NBR' , name), noise)\n",
        "\n"
      ],
      "execution_count": null,
      "outputs": []
    },
    {
      "cell_type": "code",
      "metadata": {
        "id": "3yBN0oOlGSfH"
      },
      "source": [
        ""
      ],
      "execution_count": null,
      "outputs": []
    }
  ]
}